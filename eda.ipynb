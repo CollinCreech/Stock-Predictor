{
 "cells": [
  {
   "cell_type": "code",
   "execution_count": 3,
   "id": "e43c9ca6",
   "metadata": {},
   "outputs": [],
   "source": [
    "import yfinance as yf\n",
    "import numpy as np\n",
    "from sklearn.preprocessing import MinMaxScaler\n",
    "\n",
    "\n",
    "dat = yf.Ticker('MSFT')\n",
    "history_df = dat.history()"
   ]
  },
  {
   "cell_type": "code",
   "execution_count": 4,
   "id": "11030d86",
   "metadata": {},
   "outputs": [],
   "source": [
    "def create_sequences(data, seq_length):\n",
    "    X = []\n",
    "    y = []\n",
    "    for i in range(len(data) - seq_length):\n",
    "        seq = data[i:i + seq_length]\n",
    "        target = data[i + seq_length]\n",
    "        X.append(seq)\n",
    "        y.append(target)\n",
    "    return np.array(X), np.array(y)"
   ]
  },
  {
   "cell_type": "code",
   "execution_count": 5,
   "id": "30571cfa",
   "metadata": {},
   "outputs": [],
   "source": [
    "closing_prices = history_df['Close'].values\n",
    "SEQ_LENGTH = 3\n",
    "X, y = create_sequences(closing_prices, SEQ_LENGTH)"
   ]
  },
  {
   "cell_type": "code",
   "execution_count": 6,
   "id": "b87d7261",
   "metadata": {},
   "outputs": [],
   "source": [
    "# Ensure split is chronological\n",
    "train_size = int(len(X) * 0.8)\n",
    "val_size = int(len(X) * 0.1)\n",
    "\n",
    "# Create training, validation, and testing sets\n",
    "X_train, y_train = X[:train_size], y[train_size]\n",
    "X_valid, y_valid = X[train_size: train_size + val_size], y[train_size: train_size + val_size]\n",
    "X_test, y_test = X[train_size + val_size:], y[train_size + val_size:]"
   ]
  },
  {
   "cell_type": "code",
   "execution_count": 8,
   "id": "0da5ab70",
   "metadata": {},
   "outputs": [],
   "source": [
    "# Handle scaling\n",
    "scaler_X = MinMaxScaler()\n",
    "\n",
    "X_train_reshaped = X_train.reshape(-1, X_train.shape[-1])"
   ]
  }
 ],
 "metadata": {
  "kernelspec": {
   "display_name": "stock_env",
   "language": "python",
   "name": "python3"
  },
  "language_info": {
   "codemirror_mode": {
    "name": "ipython",
    "version": 3
   },
   "file_extension": ".py",
   "mimetype": "text/x-python",
   "name": "python",
   "nbconvert_exporter": "python",
   "pygments_lexer": "ipython3",
   "version": "3.11.13"
  }
 },
 "nbformat": 4,
 "nbformat_minor": 5
}
